{
 "cells": [
  {
   "cell_type": "markdown",
   "id": "cellular-operator",
   "metadata": {},
   "source": [
    "# Handwritten Digit Recognition Dataset\n",
    "* The dataset was constructed from a number of scanned document datasets available from the National Institute of Standards and Technology(NIST).\n",
    "* Each image is a 28*28 pixel square(784 pixels total).\n",
    "* A standard split of the dataset is used to evaluate and compare models where 60,000 images are used to train a model and a separate set of 10,000 images are used to test it.\n",
    "* 10 classes(0 to 9) to predict."
   ]
  },
  {
   "cell_type": "markdown",
   "id": "dying-dealer",
   "metadata": {},
   "source": [
    "# 1. Loading the MNIST dataset in Keras"
   ]
  },
  {
   "cell_type": "code",
   "execution_count": 8,
   "id": "devoted-ukraine",
   "metadata": {},
   "outputs": [
    {
     "data": {
      "image/png": "[encoded data removed]",
      "text/plain": [
       "<Figure size 432x288 with 4 Axes>"
      ]
     },
     "metadata": {
      "needs_background": "light"
     },
     "output_type": "display_data"
    }
   ],
   "source": [
    "# plot ad hoc mnist instances\n",
    "from keras.datasets import mnist\n",
    "import matplotlib.pyplot as plt\n",
    "\n",
    "# load the MNIST dataset\n",
    "(X_train,y_train), (X_test,y_test) = mnist.load_data()\n",
    "\n",
    "# plot 4 images as gray scale\n",
    "plt.subplot(221)\n",
    "plt.imshow(X_train[0],cmap=plt.get_cmap('gray'))\n",
    "plt.subplot(222)\n",
    "plt.imshow(X_train[1],cmap=plt.get_cmap('gray'))\n",
    "plt.subplot(223)\n",
    "plt.imshow(X_train[2],cmap=plt.get_cmap('gray'))\n",
    "plt.subplot(224)\n",
    "plt.imshow(X_train[3],cmap=plt.get_cmap('gray'))\n",
    "\n",
    "# show the plot\n",
    "plt.savefig('digits')\n",
    "plt.show()"
   ]
  },
  {
   "cell_type": "markdown",
   "id": "active-witch",
   "metadata": {},
   "source": [
    "# 2. Baseline Model with Multilayer Perceptrons"
   ]
  },
  {
   "cell_type": "code",
   "execution_count": 9,
   "id": "impressed-brave",
   "metadata": {},
   "outputs": [],
   "source": [
    "import numpy as np\n",
    "from keras.datasets import mnist\n",
    "from keras.models import Sequential\n",
    "from keras.layers import Dense\n",
    "from keras.layers import Dropout\n",
    "from keras.utils import np_utils\n",
    "\n",
    "# fix random seed for reproducibility\n",
    "seed = 7\n",
    "np.random.seed(seed)"
   ]
  },
  {
   "cell_type": "code",
   "execution_count": 10,
   "id": "incident-defendant",
   "metadata": {},
   "outputs": [],
   "source": [
    "# load data\n",
    "(X_train,y_train),(X_test,y_test) = mnist.load_data()"
   ]
  },
  {
   "cell_type": "markdown",
   "id": "disciplinary-bobby",
   "metadata": {},
   "source": [
    "* For a multilayer perceptron model we must reduce the images down into a vector of pixels.\n",
    "* In this case the 28*28 sized images will be 784 pixel input vectors."
   ]
  },
  {
   "cell_type": "code",
   "execution_count": 11,
   "id": "solved-typing",
   "metadata": {},
   "outputs": [],
   "source": [
    "# flatten 28*28 images to a 784 vector for each image\n",
    "#num_pixels = X_train.shape[1] * X_train.shape[2]\n",
    "X_train = X_train.reshape(X_train.shape[0],28*28).astype('float32')\n",
    "X_test = X_test.reshape(X_test.shape[0],28*28).astype('float32')\n",
    "#y_train = y_train.reshape(y_train.shape[0],10).astype('float32')"
   ]
  },
  {
   "cell_type": "code",
   "execution_count": 12,
   "id": "invisible-filter",
   "metadata": {},
   "outputs": [
    {
     "name": "stdout",
     "output_type": "stream",
     "text": [
      "(60000, 784)\n"
     ]
    }
   ],
   "source": [
    "print(X_train.shape) "
   ]
  },
  {
   "cell_type": "code",
   "execution_count": 13,
   "id": "contained-trinity",
   "metadata": {},
   "outputs": [],
   "source": [
    "# normalize inputs from 0-255 to 0-1\n",
    "X_train = X_train/255\n",
    "X_test = X_test/255"
   ]
  },
  {
   "cell_type": "code",
   "execution_count": 14,
   "id": "accessible-swift",
   "metadata": {},
   "outputs": [
    {
     "name": "stdout",
     "output_type": "stream",
     "text": [
      "(60000, 10)\n",
      "(10000, 10)\n",
      "10\n"
     ]
    }
   ],
   "source": [
    "# transforming the vector of class integers into a binary matrix\n",
    "# one hot encoding\n",
    "\n",
    "y_train = np_utils.to_categorical(y_train)\n",
    "print(y_train.shape)\n",
    "y_test = np_utils.to_categorical(y_test)\n",
    "print(y_test.shape)\n",
    "num_classes = y_test.shape[1]\n",
    "print(num_classes)"
   ]
  },
  {
   "cell_type": "code",
   "execution_count": 15,
   "id": "exempt-tender",
   "metadata": {},
   "outputs": [],
   "source": [
    "# define baseline model\n",
    "def baseline_model():\n",
    "    # create model\n",
    "    model = Sequential()\n",
    "    model.add(Dense(784,input_dim=784,activation='relu'))\n",
    "    model.add(Dense(num_classes,activation='softmax'))\n",
    "    \n",
    "    # compile model\n",
    "    model.compile(loss='categorical_crossentropy',optimizer='adam',metrics=['accuracy'])\n",
    "    return model\n"
   ]
  },
  {
   "attachments": {
    "image.png": {
     "image/png": "[encoded data removed]"
    }
   },
   "cell_type": "markdown",
   "id": "enclosed-realtor",
   "metadata": {},
   "source": [
    "* Model Strcuture\n",
    "![image.png](attachment:image.png)"
   ]
  },
  {
   "cell_type": "code",
   "execution_count": 24,
   "id": "inside-extent",
   "metadata": {},
   "outputs": [
    {
     "name": "stdout",
     "output_type": "stream",
     "text": [
      "Epoch 1/20\n",
      "300/300 - 2s - loss: 0.7633 - accuracy: 0.7739 - val_loss: 0.2886 - val_accuracy: 0.9139\n",
      "Epoch 2/20\n",
      "300/300 - 1s - loss: 0.3375 - accuracy: 0.8956 - val_loss: 0.2027 - val_accuracy: 0.9382\n",
      "Epoch 3/20\n",
      "300/300 - 1s - loss: 0.2658 - accuracy: 0.9178 - val_loss: 0.1689 - val_accuracy: 0.9481\n",
      "Epoch 4/20\n",
      "300/300 - 1s - loss: 0.2337 - accuracy: 0.9276 - val_loss: 0.1425 - val_accuracy: 0.9571\n",
      "Epoch 5/20\n",
      "300/300 - 1s - loss: 0.2065 - accuracy: 0.9356 - val_loss: 0.1260 - val_accuracy: 0.9630\n",
      "Epoch 6/20\n",
      "300/300 - 1s - loss: 0.1922 - accuracy: 0.9391 - val_loss: 0.1156 - val_accuracy: 0.9638\n",
      "Epoch 7/20\n",
      "300/300 - 2s - loss: 0.1830 - accuracy: 0.9430 - val_loss: 0.1098 - val_accuracy: 0.9663\n",
      "Epoch 8/20\n",
      "300/300 - 1s - loss: 0.1714 - accuracy: 0.9471 - val_loss: 0.1038 - val_accuracy: 0.9679\n",
      "Epoch 9/20\n",
      "300/300 - 1s - loss: 0.1654 - accuracy: 0.9494 - val_loss: 0.0993 - val_accuracy: 0.9686\n",
      "Epoch 10/20\n",
      "300/300 - 1s - loss: 0.1590 - accuracy: 0.9498 - val_loss: 0.0959 - val_accuracy: 0.9689\n",
      "Epoch 11/20\n",
      "300/300 - 2s - loss: 0.1522 - accuracy: 0.9521 - val_loss: 0.0911 - val_accuracy: 0.9703\n",
      "Epoch 12/20\n",
      "300/300 - 1s - loss: 0.1453 - accuracy: 0.9546 - val_loss: 0.0882 - val_accuracy: 0.9702\n",
      "Epoch 13/20\n",
      "300/300 - 1s - loss: 0.1416 - accuracy: 0.9553 - val_loss: 0.0863 - val_accuracy: 0.9715\n",
      "Epoch 14/20\n",
      "300/300 - 1s - loss: 0.1361 - accuracy: 0.9581 - val_loss: 0.0858 - val_accuracy: 0.9713\n",
      "Epoch 15/20\n",
      "300/300 - 1s - loss: 0.1352 - accuracy: 0.9573 - val_loss: 0.0838 - val_accuracy: 0.9732\n",
      "Epoch 16/20\n",
      "300/300 - 1s - loss: 0.1314 - accuracy: 0.9582 - val_loss: 0.0807 - val_accuracy: 0.9734\n",
      "Epoch 17/20\n",
      "300/300 - 1s - loss: 0.1253 - accuracy: 0.9600 - val_loss: 0.0799 - val_accuracy: 0.9736\n",
      "Epoch 18/20\n",
      "300/300 - 3s - loss: 0.1257 - accuracy: 0.9603 - val_loss: 0.0801 - val_accuracy: 0.9748\n",
      "Epoch 19/20\n",
      "300/300 - 7s - loss: 0.1231 - accuracy: 0.9610 - val_loss: 0.0787 - val_accuracy: 0.9741\n",
      "Epoch 20/20\n",
      "300/300 - 7s - loss: 0.1185 - accuracy: 0.9617 - val_loss: 0.0777 - val_accuracy: 0.9752\n",
      "Baseline Score: 97.52%\n"
     ]
    }
   ],
   "source": [
    "# build the model\n",
    "model = baseline_model()\n",
    "\n",
    "# Fit the model\n",
    "model.fit(X_train,y_train,validation_data=(X_test,y_test),epochs=20,batch_size=200,verbose=2)\n",
    "\n",
    "# Final evaluation of the model\n",
    "scores = model.evaluate(X_test,y_test,verbose=0)\n",
    "print(\"Baseline Score: %.2f%%\" %(scores[1]*100))"
   ]
  },
  {
   "cell_type": "markdown",
   "id": "educational-bracelet",
   "metadata": {},
   "source": [
    "# 3. Simple Convolutional Neural Network for MNIST"
   ]
  },
  {
   "cell_type": "code",
   "execution_count": 17,
   "id": "lyric-heart",
   "metadata": {},
   "outputs": [],
   "source": [
    "import numpy as np\n",
    "from keras.datasets import mnist\n",
    "from keras.models import Sequential\n",
    "from keras.layers import Dense\n",
    "from keras.layers import Dropout\n",
    "from keras.layers import Flatten\n",
    "from keras.layers.convolutional import Convolution2D\n",
    "from keras.layers.convolutional import MaxPooling2D\n",
    "from keras.layers.convolutional import Conv2D\n",
    "from keras.utils import np_utils"
   ]
  },
  {
   "cell_type": "code",
   "execution_count": 18,
   "id": "approved-lambda",
   "metadata": {},
   "outputs": [],
   "source": [
    "# fix random seed for reproducibility\n",
    "seed = 7\n",
    "np.random.seed(seed)"
   ]
  },
  {
   "cell_type": "code",
   "execution_count": 19,
   "id": "spare-ready",
   "metadata": {},
   "outputs": [],
   "source": [
    "# load data\n",
    "(X_train,y_train),(X_test,y_test) = mnist.load_data()\n",
    "\n",
    "# reshape to be [samples][channels][width][height]\n",
    "X_train = X_train.reshape(X_train.shape[0],1,28,28).astype('float32')\n",
    "X_test = X_test.reshape(X_test.shape[0],1,28,28).astype('float32')"
   ]
  },
  {
   "cell_type": "code",
   "execution_count": 20,
   "id": "behind-clock",
   "metadata": {},
   "outputs": [
    {
     "name": "stdout",
     "output_type": "stream",
     "text": [
      "10\n"
     ]
    }
   ],
   "source": [
    "# normalize inputs from 0-255 to 0-1\n",
    "X_train = X_train/255\n",
    "X_test = X_test/255\n",
    "\n",
    "# one hot encoding outputs\n",
    "y_train = np_utils.to_categorical(y_train)\n",
    "y_test = np_utils.to_categorical(y_test)\n",
    "num_classes = y_test.shape[1]\n",
    "print(num_classes)"
   ]
  },
  {
   "attachments": {
    "image.png": {
     "image/png": "[encoded data removed]"
    }
   },
   "cell_type": "markdown",
   "id": "clinical-polyester",
   "metadata": {},
   "source": [
    "## structure of CNN\n",
    "1. The first hidden layer is a convolutional layer called a **Convolution2D**.The layer has 32 feature maps with size of 5*5 and a rectifier activation function.Expecting input images.\n",
    "2. pooling layer called **MaxPooling2D**.pool size is 2*2.\n",
    "3. **Dropout Regularization**,it is configured to randomly exclude 20% of neurons in the layer in order to reduce overfitting.\n",
    "4. **Flatten** converts the 2D matrix data to a vector.It allows the output to be processed by standard fully connected layers.\n",
    "5. **fully connected layer** with 128 neurons and a rectifier activation function.\n",
    "6. **Output layer** has 10 neurons for 10 classes and softmax function to output probability-like predictions for each class.\n",
    "![image.png](attachment:image.png)\n"
   ]
  },
  {
   "cell_type": "code",
   "execution_count": 21,
   "id": "dimensional-columbia",
   "metadata": {},
   "outputs": [],
   "source": [
    "def baseline_model():\n",
    "    # create model\n",
    "    model = Sequential()\n",
    "    model.add(Conv2D(32,5,5,padding='same',input_shape=(1,28,28),activation='relu'))\n",
    "    model.add(MaxPooling2D((2,2), padding='same'))\n",
    "    model.add(Dropout(0.2))\n",
    "    model.add(Flatten())\n",
    "    model.add(Dense(128,activation='relu'))\n",
    "    model.add(Dense(num_classes,activation='softmax'))\n",
    "    \n",
    "    # compile model\n",
    "    model.compile(loss='categorical_crossentropy',optimizer='adam',metrics=['accuracy'])\n",
    "    return model"
   ]
  },
  {
   "cell_type": "code",
   "execution_count": 25,
   "id": "dried-nicaragua",
   "metadata": {},
   "outputs": [
    {
     "name": "stdout",
     "output_type": "stream",
     "text": [
      "Epoch 1/20\n",
      "300/300 - 2s - loss: 0.7715 - accuracy: 0.7638 - val_loss: 0.3080 - val_accuracy: 0.9092\n",
      "Epoch 2/20\n",
      "300/300 - 1s - loss: 0.3548 - accuracy: 0.8919 - val_loss: 0.2182 - val_accuracy: 0.9363\n",
      "Epoch 3/20\n",
      "300/300 - 1s - loss: 0.2850 - accuracy: 0.9114 - val_loss: 0.1857 - val_accuracy: 0.9423\n",
      "Epoch 4/20\n",
      "300/300 - 1s - loss: 0.2471 - accuracy: 0.9236 - val_loss: 0.1567 - val_accuracy: 0.9518\n",
      "Epoch 5/20\n",
      "300/300 - 1s - loss: 0.2239 - accuracy: 0.9309 - val_loss: 0.1446 - val_accuracy: 0.9544\n",
      "Epoch 6/20\n",
      "300/300 - 1s - loss: 0.2052 - accuracy: 0.9367 - val_loss: 0.1315 - val_accuracy: 0.9597\n",
      "Epoch 7/20\n",
      "300/300 - 1s - loss: 0.1919 - accuracy: 0.9394 - val_loss: 0.1232 - val_accuracy: 0.9619\n",
      "Epoch 8/20\n",
      "300/300 - 1s - loss: 0.1807 - accuracy: 0.9439 - val_loss: 0.1183 - val_accuracy: 0.9629\n",
      "Epoch 9/20\n",
      "300/300 - 2s - loss: 0.1734 - accuracy: 0.9451 - val_loss: 0.1116 - val_accuracy: 0.9658\n",
      "Epoch 10/20\n",
      "300/300 - 1s - loss: 0.1636 - accuracy: 0.9492 - val_loss: 0.1101 - val_accuracy: 0.9652\n",
      "Epoch 11/20\n",
      "300/300 - 1s - loss: 0.1542 - accuracy: 0.9528 - val_loss: 0.1044 - val_accuracy: 0.9682\n",
      "Epoch 12/20\n",
      "300/300 - 1s - loss: 0.1477 - accuracy: 0.9539 - val_loss: 0.1046 - val_accuracy: 0.9663\n",
      "Epoch 13/20\n",
      "300/300 - 1s - loss: 0.1457 - accuracy: 0.9541 - val_loss: 0.0982 - val_accuracy: 0.9701\n",
      "Epoch 14/20\n",
      "300/300 - 1s - loss: 0.1408 - accuracy: 0.9556 - val_loss: 0.0953 - val_accuracy: 0.9701\n",
      "Epoch 15/20\n",
      "300/300 - 1s - loss: 0.1373 - accuracy: 0.9558 - val_loss: 0.0960 - val_accuracy: 0.9692\n",
      "Epoch 16/20\n",
      "300/300 - 1s - loss: 0.1332 - accuracy: 0.9576 - val_loss: 0.0921 - val_accuracy: 0.9711\n",
      "Epoch 17/20\n",
      "300/300 - 1s - loss: 0.1299 - accuracy: 0.9578 - val_loss: 0.0923 - val_accuracy: 0.9717\n",
      "Epoch 18/20\n",
      "300/300 - 1s - loss: 0.1257 - accuracy: 0.9603 - val_loss: 0.0929 - val_accuracy: 0.9708\n",
      "Epoch 19/20\n",
      "300/300 - 1s - loss: 0.1242 - accuracy: 0.9601 - val_loss: 0.0880 - val_accuracy: 0.9732\n",
      "Epoch 20/20\n",
      "300/300 - 2s - loss: 0.1206 - accuracy: 0.9615 - val_loss: 0.0885 - val_accuracy: 0.9722\n",
      "CNN Score: 97.22%\n"
     ]
    }
   ],
   "source": [
    "# build the model\n",
    "model = baseline_model()\n",
    "\n",
    "# fit the model\n",
    "model.fit(X_train,y_train,validation_data=(X_test,y_test),epochs=20,batch_size=200,verbose=2)\n",
    "\n",
    "# Final evaluation of the model\n",
    "scores = model.evaluate(X_test,y_test,verbose=0)\n",
    "print(\"CNN Score: %.2f%%\" %(scores[1]*100))"
   ]
  },
  {
   "attachments": {
    "image.png": {
     "image/png": "[encoded data removed]"
    }
   },
   "cell_type": "markdown",
   "id": "valued-civilization",
   "metadata": {},
   "source": [
    "# Larger Convolutional Neural Network\n",
    "![image.png](attachment:image.png)\n"
   ]
  },
  {
   "cell_type": "code",
   "execution_count": 27,
   "id": "hundred-kelly",
   "metadata": {},
   "outputs": [
    {
     "name": "stdout",
     "output_type": "stream",
     "text": [
      "Epoch 1/20\n",
      "300/300 - 2s - loss: 1.0532 - accuracy: 0.6365 - val_loss: 0.4729 - val_accuracy: 0.8564\n",
      "Epoch 2/20\n",
      "300/300 - 2s - loss: 0.5301 - accuracy: 0.8234 - val_loss: 0.3176 - val_accuracy: 0.9070\n",
      "Epoch 3/20\n",
      "300/300 - 2s - loss: 0.4063 - accuracy: 0.8688 - val_loss: 0.2471 - val_accuracy: 0.9234\n",
      "Epoch 4/20\n",
      "300/300 - 2s - loss: 0.3463 - accuracy: 0.8912 - val_loss: 0.2041 - val_accuracy: 0.9365\n",
      "Epoch 5/20\n",
      "300/300 - 2s - loss: 0.3090 - accuracy: 0.9031 - val_loss: 0.1881 - val_accuracy: 0.9413\n",
      "Epoch 6/20\n",
      "300/300 - 2s - loss: 0.2851 - accuracy: 0.9090 - val_loss: 0.1743 - val_accuracy: 0.9457\n",
      "Epoch 7/20\n",
      "300/300 - 2s - loss: 0.2673 - accuracy: 0.9167 - val_loss: 0.1643 - val_accuracy: 0.9485\n",
      "Epoch 8/20\n",
      "300/300 - 2s - loss: 0.2541 - accuracy: 0.9197 - val_loss: 0.1629 - val_accuracy: 0.9497\n",
      "Epoch 9/20\n",
      "300/300 - 2s - loss: 0.2403 - accuracy: 0.9256 - val_loss: 0.1559 - val_accuracy: 0.9526\n",
      "Epoch 10/20\n",
      "300/300 - 2s - loss: 0.2351 - accuracy: 0.9252 - val_loss: 0.1485 - val_accuracy: 0.9558\n",
      "Epoch 11/20\n",
      "300/300 - 1s - loss: 0.2244 - accuracy: 0.9300 - val_loss: 0.1518 - val_accuracy: 0.9545\n",
      "Epoch 12/20\n",
      "300/300 - 1s - loss: 0.2170 - accuracy: 0.9308 - val_loss: 0.1476 - val_accuracy: 0.9533\n",
      "Epoch 13/20\n",
      "300/300 - 1s - loss: 0.2074 - accuracy: 0.9345 - val_loss: 0.1412 - val_accuracy: 0.9562\n",
      "Epoch 14/20\n",
      "300/300 - 1s - loss: 0.1999 - accuracy: 0.9368 - val_loss: 0.1358 - val_accuracy: 0.9577\n",
      "Epoch 15/20\n",
      "300/300 - 1s - loss: 0.1936 - accuracy: 0.9396 - val_loss: 0.1377 - val_accuracy: 0.9580\n",
      "Epoch 16/20\n",
      "300/300 - 1s - loss: 0.1915 - accuracy: 0.9399 - val_loss: 0.1355 - val_accuracy: 0.9591\n",
      "Epoch 17/20\n",
      "300/300 - 1s - loss: 0.1880 - accuracy: 0.9408 - val_loss: 0.1418 - val_accuracy: 0.9566\n",
      "Epoch 18/20\n",
      "300/300 - 1s - loss: 0.1818 - accuracy: 0.9420 - val_loss: 0.1338 - val_accuracy: 0.9591\n",
      "Epoch 19/20\n",
      "300/300 - 2s - loss: 0.1781 - accuracy: 0.9437 - val_loss: 0.1338 - val_accuracy: 0.9575\n",
      "Epoch 20/20\n",
      "300/300 - 2s - loss: 0.1750 - accuracy: 0.9447 - val_loss: 0.1333 - val_accuracy: 0.9586\n",
      "Large CNN Score: 95.86%\n"
     ]
    }
   ],
   "source": [
    "def larger_model():\n",
    "    # create model\n",
    "    model = Sequential()\n",
    "    model.add(Convolution2D(30, 5, 5, input_shape=(1, 28, 28),padding='same', activation='relu' ))\n",
    "    model.add(MaxPooling2D((2,2), padding='same'))\n",
    "    model.add(Convolution2D(15, 3, 3,padding='same', activation='relu' ))\n",
    "    model.add(MaxPooling2D((2,2), padding='same'))\n",
    "    model.add(Dropout(0.2))\n",
    "    model.add(Flatten())\n",
    "    model.add(Dense(128, activation='relu' ))\n",
    "    model.add(Dense(50, activation='relu' ))\n",
    "    model.add(Dense(num_classes, activation='softmax' ))\n",
    "    # Compile model\n",
    "    model.compile(loss='categorical_crossentropy' , optimizer= 'adam' , metrics=[ 'accuracy' ])\n",
    "    return model\n",
    "# build the model\n",
    "model = larger_model()\n",
    "# Fit the model\n",
    "model.fit(X_train, y_train, validation_data=(X_test, y_test), epochs=20, batch_size=200,verbose=2)\n",
    "# Final evaluation of the model\n",
    "scores = model.evaluate(X_test, y_test, verbose=0)\n",
    "print(\"Large CNN Score: %.2f%%\" % (scores[1]*100))"
   ]
  },
  {
   "cell_type": "code",
   "execution_count": null,
   "id": "comic-methodology",
   "metadata": {},
   "outputs": [],
   "source": []
  }
 ],
 "metadata": {
  "kernelspec": {
   "display_name": "Python 3",
   "language": "python",
   "name": "python3"
  },
  "language_info": {
   "codemirror_mode": {
    "name": "ipython",
    "version": 3
   },
   "file_extension": ".py",
   "mimetype": "text/x-python",
   "name": "python",
   "nbconvert_exporter": "python",
   "pygments_lexer": "ipython3",
   "version": "3.7.5"
  }
 },
 "nbformat": 4,
 "nbformat_minor": 5
}
